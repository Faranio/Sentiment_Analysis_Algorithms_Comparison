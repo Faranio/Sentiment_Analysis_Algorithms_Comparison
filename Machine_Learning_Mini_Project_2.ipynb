{
 "cells": [
  {
   "cell_type": "markdown",
   "metadata": {
    "id": "pfB6sNbXK3SH"
   },
   "source": [
    "# Mini-Project 2\n",
    "**Author**: Farkhad Kuanyshkereyev<br>\n",
    "**Course**: Machine Learning<br>\n",
    "**Professor**: Sepinoud Azimi Rashti"
   ]
  },
  {
   "cell_type": "markdown",
   "metadata": {
    "id": "mVTJwQGyK6xP"
   },
   "source": [
    "## **Step 1 - Importing Packages**"
   ]
  },
  {
   "cell_type": "code",
   "execution_count": 1,
   "metadata": {
    "colab": {
     "base_uri": "https://localhost:8080/"
    },
    "id": "RSd9miEOP4ec",
    "outputId": "6222630f-d032-477b-9548-5c61a4795af2"
   },
   "outputs": [
    {
     "name": "stdout",
     "output_type": "stream",
     "text": [
      "Requirement already satisfied: contractions in /usr/local/lib/python3.7/dist-packages (0.1.66)\n",
      "Requirement already satisfied: textsearch>=0.0.21 in /usr/local/lib/python3.7/dist-packages (from contractions) (0.0.21)\n",
      "Requirement already satisfied: anyascii in /usr/local/lib/python3.7/dist-packages (from textsearch>=0.0.21->contractions) (0.3.0)\n",
      "Requirement already satisfied: pyahocorasick in /usr/local/lib/python3.7/dist-packages (from textsearch>=0.0.21->contractions) (1.4.2)\n"
     ]
    }
   ],
   "source": [
    "# Installing necessary packages\n",
    "\n",
    "!pip install contractions"
   ]
  },
  {
   "cell_type": "code",
   "execution_count": 2,
   "metadata": {
    "colab": {
     "base_uri": "https://localhost:8080/"
    },
    "id": "1_fQaGA9Lian",
    "outputId": "82124a8c-2bff-477c-d645-602878294afd"
   },
   "outputs": [
    {
     "name": "stdout",
     "output_type": "stream",
     "text": [
      "[nltk_data] Downloading package punkt to /root/nltk_data...\n",
      "[nltk_data]   Package punkt is already up-to-date!\n"
     ]
    }
   ],
   "source": [
    "# Importing necessary packages and defining useful constants\n",
    "\n",
    "from google.colab import files\n",
    "from IPython.display import SVG\n",
    "from keras.layers import Conv1D, Flatten, GlobalMaxPooling1D, LSTM\n",
    "from keras.layers.core import Dense\n",
    "from keras.layers.embeddings import Embedding\n",
    "from keras.models import Sequential\n",
    "from keras.preprocessing.sequence import pad_sequences\n",
    "from keras.preprocessing.text import Tokenizer\n",
    "from keras.utils.vis_utils import model_to_dot\n",
    "from nltk import word_tokenize\n",
    "from sklearn.metrics import accuracy_score, confusion_matrix\n",
    "from sklearn.model_selection import train_test_split\n",
    "from tensorflow.keras.utils import plot_model\n",
    "\n",
    "import contractions\n",
    "import matplotlib.pyplot as plt\n",
    "import nltk\n",
    "import numpy as np\n",
    "import pandas as pd\n",
    "import re\n",
    "import seaborn as sns\n",
    "import tensorflow as tf\n",
    "\n",
    "nltk.download('punkt')\n",
    "\n",
    "SEED = 0\n",
    "THRESHOLD = 0.5\n",
    "\n",
    "np.random.seed(SEED)\n",
    "tf.random.set_seed(SEED)"
   ]
  },
  {
   "cell_type": "markdown",
   "metadata": {
    "id": "PZRM1t_aK6zp"
   },
   "source": [
    "## **Step 2 - Data Processing**"
   ]
  },
  {
   "cell_type": "code",
   "execution_count": 3,
   "metadata": {
    "colab": {
     "base_uri": "https://localhost:8080/",
     "height": 38,
     "resources": {
      "http://localhost:8080/nbextensions/google.colab/files.js": {
       "data": "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",
       "headers": [
        [
         "content-type",
         "application/javascript"
        ]
       ],
       "ok": true,
       "status": 200,
       "status_text": ""
      }
     }
    },
    "id": "Q8cS3o99MHh9",
    "outputId": "2a356c88-feba-40a6-a3b3-7d0eab0da3fb"
   },
   "outputs": [
    {
     "data": {
      "text/html": [
       "\n",
       "     <input type=\"file\" id=\"files-30dcef93-7e04-476e-a5a8-120d8f9f1194\" name=\"files[]\" multiple disabled\n",
       "        style=\"border:none\" />\n",
       "     <output id=\"result-30dcef93-7e04-476e-a5a8-120d8f9f1194\">\n",
       "      Upload widget is only available when the cell has been executed in the\n",
       "      current browser session. Please rerun this cell to enable.\n",
       "      </output>\n",
       "      <script src=\"/nbextensions/google.colab/files.js\"></script> "
      ],
      "text/plain": [
       "<IPython.core.display.HTML object>"
      ]
     },
     "metadata": {},
     "output_type": "display_data"
    }
   ],
   "source": [
    "# Uploading the dataset TSV file\n",
    "\n",
    "file_name = \"Sentiment140.tenPercent.sample.tweets.tsv\"\n",
    "files.upload()\n",
    "\n",
    "df = pd.read_csv(f\"./{file_name}\", sep=\"\\t\")"
   ]
  },
  {
   "cell_type": "code",
   "execution_count": 4,
   "metadata": {
    "colab": {
     "base_uri": "https://localhost:8080/"
    },
    "id": "GfnCmwMoNYDR",
    "outputId": "794f07ca-c330-4332-de73-5eb46bc9d916"
   },
   "outputs": [
    {
     "data": {
      "text/plain": [
       "False"
      ]
     },
     "execution_count": 4,
     "metadata": {},
     "output_type": "execute_result"
    }
   ],
   "source": [
    "# Checking for missing values\n",
    "\n",
    "df.isna().values.any()"
   ]
  },
  {
   "cell_type": "code",
   "execution_count": 5,
   "metadata": {
    "colab": {
     "base_uri": "https://localhost:8080/",
     "height": 305
    },
    "id": "8SQMN0wJNiaX",
    "outputId": "0ac07526-3fe1-4665-d9ea-d2c026e7c18c"
   },
   "outputs": [
    {
     "data": {
      "image/png": "[encoded data removed]",
      "text/plain": [
       "<Figure size 504x288 with 1 Axes>"
      ]
     },
     "metadata": {
      "needs_background": "light"
     },
     "output_type": "display_data"
    }
   ],
   "source": [
    "# Checking the class distribution\n",
    "\n",
    "plt.subplots(figsize=(7, 4))\n",
    "sns.countplot(x=\"sentiment_label\", data=df)\n",
    "plt.title(\"Histogram for the target variable\", fontsize=20)\n",
    "plt.xlabel(\"Target variable\", fontsize=15)\n",
    "plt.ylabel(\"Frequency\", fontsize=15)\n",
    "plt.show();"
   ]
  },
  {
   "cell_type": "code",
   "execution_count": 6,
   "metadata": {
    "id": "SiRswejnRIZ8"
   },
   "outputs": [],
   "source": [
    "# Defining the tweet preprocessing function\n",
    "\n",
    "def preprocess_tweet(tweet):\n",
    "    tokenized_tweet = [contractions.fix(word) for word in tweet.split()]\n",
    "    tokenized_tweet = ' '.join(tokenized_tweet).lower()\n",
    "    tokenized_tweet = re.sub(r'[^\\w\\d\\s\\']+', '', tokenized_tweet)\n",
    "    tokenized_tweet = word_tokenize(tokenized_tweet)\n",
    "    tokenized_tweet = ' '.join(tokenized_tweet)\n",
    "    return tokenized_tweet"
   ]
  },
  {
   "cell_type": "code",
   "execution_count": 7,
   "metadata": {
    "id": "o6Cc4oPfUHio"
   },
   "outputs": [],
   "source": [
    "# Creating the dataset of preprocessed tweets\n",
    "\n",
    "X = []\n",
    "tweets = list(df[\"tweet_text\"])\n",
    "\n",
    "for tweet in tweets:\n",
    "    X.append(preprocess_tweet(tweet))"
   ]
  },
  {
   "cell_type": "code",
   "execution_count": 8,
   "metadata": {
    "id": "hwbTZ_tNSKhX"
   },
   "outputs": [],
   "source": [
    "# Mapping the values of target variable y to 0 and 1 instead of 0 and 4\n",
    "\n",
    "y = df[\"sentiment_label\"]\n",
    "y = np.array(list(map(lambda x: 1 if x == 4 else 0, y)))"
   ]
  },
  {
   "cell_type": "code",
   "execution_count": 9,
   "metadata": {
    "id": "Rq4ftMY_Uxgv"
   },
   "outputs": [],
   "source": [
    "# Creating 3 separate datasets: train, validation, and test\n",
    "\n",
    "X_train, X_test, y_train, y_test = train_test_split(X, y, stratify=y, test_size=0.2, random_state=SEED)\n",
    "X_valid, X_test, y_valid, y_test = train_test_split(X_test, y_test, stratify=y_test, test_size=0.5, random_state=SEED)"
   ]
  },
  {
   "cell_type": "code",
   "execution_count": 10,
   "metadata": {
    "id": "5-417KUGVT7l"
   },
   "outputs": [],
   "source": [
    "# Tokenizing words in tweets and converting them to dictionary numbers\n",
    "\n",
    "tokenizer = Tokenizer(num_words=4096)\n",
    "tokenizer.fit_on_texts(X_train)\n",
    "\n",
    "X_train = tokenizer.texts_to_sequences(X_train)\n",
    "X_valid = tokenizer.texts_to_sequences(X_valid)\n",
    "X_test  = tokenizer.texts_to_sequences(X_test)"
   ]
  },
  {
   "cell_type": "code",
   "execution_count": 11,
   "metadata": {
    "id": "WWtqCNkAWS3E"
   },
   "outputs": [],
   "source": [
    "# Padding sequences of tokenized tweets\n",
    "\n",
    "vocab_size = len(tokenizer.word_index) + 1\n",
    "maxlen = 128\n",
    "\n",
    "X_train = pad_sequences(X_train, padding=\"post\", maxlen=maxlen)\n",
    "X_valid = pad_sequences(X_valid, padding=\"post\", maxlen=maxlen)\n",
    "X_test  = pad_sequences(X_test, padding=\"post\", maxlen=maxlen)"
   ]
  },
  {
   "cell_type": "markdown",
   "metadata": {
    "id": "7JGtoBuhK61_"
   },
   "source": [
    "## **Step 3 - CNN Model**"
   ]
  },
  {
   "cell_type": "markdown",
   "metadata": {
    "id": "_SdsTpKALH32"
   },
   "source": [
    "### **Step 3.1 - Training**"
   ]
  },
  {
   "cell_type": "code",
   "execution_count": 12,
   "metadata": {
    "colab": {
     "base_uri": "https://localhost:8080/"
    },
    "id": "74LhzwBmaimw",
    "outputId": "16520439-9b6e-4e30-a965-69912ede421d"
   },
   "outputs": [
    {
     "name": "stdout",
     "output_type": "stream",
     "text": [
      "Model: \"sequential\"\n",
      "_________________________________________________________________\n",
      " Layer (type)                Output Shape              Param #   \n",
      "=================================================================\n",
      " embedding (Embedding)       (None, 128, 32)           4182464   \n",
      "                                                                 \n",
      " conv1d (Conv1D)             (None, 124, 32)           5152      \n",
      "                                                                 \n",
      " global_max_pooling1d (Globa  (None, 32)               0         \n",
      " lMaxPooling1D)                                                  \n",
      "                                                                 \n",
      " dense (Dense)               (None, 1)                 33        \n",
      "                                                                 \n",
      "=================================================================\n",
      "Total params: 4,187,649\n",
      "Trainable params: 4,187,649\n",
      "Non-trainable params: 0\n",
      "_________________________________________________________________\n"
     ]
    }
   ],
   "source": [
    "# Defining the CNN model\n",
    "\n",
    "model = Sequential()\n",
    "\n",
    "model.add(Embedding(vocab_size, 32, input_length=maxlen))\n",
    "model.add(Conv1D(32, 5, activation=\"relu\"))\n",
    "model.add(GlobalMaxPooling1D())\n",
    "model.add(Dense(1, activation=\"sigmoid\"))\n",
    "\n",
    "model.compile(\n",
    "    loss=\"binary_crossentropy\",\n",
    "    metrics=[\"accuracy\"],\n",
    "    optimizer=\"adam\"\n",
    ")\n",
    "model.summary()"
   ]
  },
  {
   "cell_type": "code",
   "execution_count": 13,
   "metadata": {
    "colab": {
     "base_uri": "https://localhost:8080/",
     "height": 486
    },
    "id": "2MmOZUz0eQLa",
    "outputId": "be7dd37e-00f6-4948-b5e4-4407ac0fe8cd"
   },
   "outputs": [
    {
     "data": {
      "image/svg+xml": [
       "<svg height=\"349pt\" viewBox=\"0.00 0.00 474.00 387.00\" width=\"428pt\" xmlns=\"http://www.w3.org/2000/svg\" xmlns:xlink=\"http://www.w3.org/1999/xlink\">\n",
       "<g class=\"graph\" id=\"graph0\" transform=\"scale(.9028 .9028) rotate(0) translate(4 383)\">\n",
       "<title>G</title>\n",
       "<polygon fill=\"#ffffff\" points=\"-4,4 -4,-383 470,-383 470,4 -4,4\" stroke=\"transparent\"/>\n",
       "<!-- 140211564319632 -->\n",
       "<g class=\"node\" id=\"node1\">\n",
       "<title>140211564319632</title>\n",
       "<polygon fill=\"none\" points=\"56.5,-332.5 56.5,-378.5 409.5,-378.5 409.5,-332.5 56.5,-332.5\" stroke=\"#000000\"/>\n",
       "<text fill=\"#000000\" font-family=\"Times,serif\" font-size=\"14.00\" text-anchor=\"middle\" x=\"116\" y=\"-351.8\">embedding_input</text>\n",
       "<polyline fill=\"none\" points=\"175.5,-332.5 175.5,-378.5 \" stroke=\"#000000\"/>\n",
       "<text fill=\"#000000\" font-family=\"Times,serif\" font-size=\"14.00\" text-anchor=\"middle\" x=\"215.5\" y=\"-351.8\">InputLayer</text>\n",
       "<polyline fill=\"none\" points=\"255.5,-332.5 255.5,-378.5 \" stroke=\"#000000\"/>\n",
       "<text fill=\"#000000\" font-family=\"Times,serif\" font-size=\"14.00\" text-anchor=\"middle\" x=\"284.5\" y=\"-363.3\">input:</text>\n",
       "<polyline fill=\"none\" points=\"255.5,-355.5 313.5,-355.5 \" stroke=\"#000000\"/>\n",
       "<text fill=\"#000000\" font-family=\"Times,serif\" font-size=\"14.00\" text-anchor=\"middle\" x=\"284.5\" y=\"-340.3\">output:</text>\n",
       "<polyline fill=\"none\" points=\"313.5,-332.5 313.5,-378.5 \" stroke=\"#000000\"/>\n",
       "<text fill=\"#000000\" font-family=\"Times,serif\" font-size=\"14.00\" text-anchor=\"middle\" x=\"361.5\" y=\"-363.3\">[(None, 128)]</text>\n",
       "<polyline fill=\"none\" points=\"313.5,-355.5 409.5,-355.5 \" stroke=\"#000000\"/>\n",
       "<text fill=\"#000000\" font-family=\"Times,serif\" font-size=\"14.00\" text-anchor=\"middle\" x=\"361.5\" y=\"-340.3\">[(None, 128)]</text>\n",
       "</g>\n",
       "<!-- 140211361803216 -->\n",
       "<g class=\"node\" id=\"node2\">\n",
       "<title>140211361803216</title>\n",
       "<polygon fill=\"none\" points=\"66.5,-249.5 66.5,-295.5 399.5,-295.5 399.5,-249.5 66.5,-249.5\" stroke=\"#000000\"/>\n",
       "<text fill=\"#000000\" font-family=\"Times,serif\" font-size=\"14.00\" text-anchor=\"middle\" x=\"107\" y=\"-268.8\">embedding</text>\n",
       "<polyline fill=\"none\" points=\"147.5,-249.5 147.5,-295.5 \" stroke=\"#000000\"/>\n",
       "<text fill=\"#000000\" font-family=\"Times,serif\" font-size=\"14.00\" text-anchor=\"middle\" x=\"189.5\" y=\"-268.8\">Embedding</text>\n",
       "<polyline fill=\"none\" points=\"231.5,-249.5 231.5,-295.5 \" stroke=\"#000000\"/>\n",
       "<text fill=\"#000000\" font-family=\"Times,serif\" font-size=\"14.00\" text-anchor=\"middle\" x=\"260.5\" y=\"-280.3\">input:</text>\n",
       "<polyline fill=\"none\" points=\"231.5,-272.5 289.5,-272.5 \" stroke=\"#000000\"/>\n",
       "<text fill=\"#000000\" font-family=\"Times,serif\" font-size=\"14.00\" text-anchor=\"middle\" x=\"260.5\" y=\"-257.3\">output:</text>\n",
       "<polyline fill=\"none\" points=\"289.5,-249.5 289.5,-295.5 \" stroke=\"#000000\"/>\n",
       "<text fill=\"#000000\" font-family=\"Times,serif\" font-size=\"14.00\" text-anchor=\"middle\" x=\"344.5\" y=\"-280.3\">(None, 128)</text>\n",
       "<polyline fill=\"none\" points=\"289.5,-272.5 399.5,-272.5 \" stroke=\"#000000\"/>\n",
       "<text fill=\"#000000\" font-family=\"Times,serif\" font-size=\"14.00\" text-anchor=\"middle\" x=\"344.5\" y=\"-257.3\">(None, 128, 32)</text>\n",
       "</g>\n",
       "<!-- 140211564319632&#45;&gt;140211361803216 -->\n",
       "<g class=\"edge\" id=\"edge1\">\n",
       "<title>140211564319632-&gt;140211361803216</title>\n",
       "<path d=\"M233,-332.3799C233,-324.1745 233,-314.7679 233,-305.8786\" fill=\"none\" stroke=\"#000000\"/>\n",
       "<polygon fill=\"#000000\" points=\"236.5001,-305.784 233,-295.784 229.5001,-305.784 236.5001,-305.784\" stroke=\"#000000\"/>\n",
       "</g>\n",
       "<!-- 140211361764688 -->\n",
       "<g class=\"node\" id=\"node3\">\n",
       "<title>140211361764688</title>\n",
       "<polygon fill=\"none\" points=\"85.5,-166.5 85.5,-212.5 380.5,-212.5 380.5,-166.5 85.5,-166.5\" stroke=\"#000000\"/>\n",
       "<text fill=\"#000000\" font-family=\"Times,serif\" font-size=\"14.00\" text-anchor=\"middle\" x=\"115.5\" y=\"-185.8\">conv1d</text>\n",
       "<polyline fill=\"none\" points=\"145.5,-166.5 145.5,-212.5 \" stroke=\"#000000\"/>\n",
       "<text fill=\"#000000\" font-family=\"Times,serif\" font-size=\"14.00\" text-anchor=\"middle\" x=\"179\" y=\"-185.8\">Conv1D</text>\n",
       "<polyline fill=\"none\" points=\"212.5,-166.5 212.5,-212.5 \" stroke=\"#000000\"/>\n",
       "<text fill=\"#000000\" font-family=\"Times,serif\" font-size=\"14.00\" text-anchor=\"middle\" x=\"241.5\" y=\"-197.3\">input:</text>\n",
       "<polyline fill=\"none\" points=\"212.5,-189.5 270.5,-189.5 \" stroke=\"#000000\"/>\n",
       "<text fill=\"#000000\" font-family=\"Times,serif\" font-size=\"14.00\" text-anchor=\"middle\" x=\"241.5\" y=\"-174.3\">output:</text>\n",
       "<polyline fill=\"none\" points=\"270.5,-166.5 270.5,-212.5 \" stroke=\"#000000\"/>\n",
       "<text fill=\"#000000\" font-family=\"Times,serif\" font-size=\"14.00\" text-anchor=\"middle\" x=\"325.5\" y=\"-197.3\">(None, 128, 32)</text>\n",
       "<polyline fill=\"none\" points=\"270.5,-189.5 380.5,-189.5 \" stroke=\"#000000\"/>\n",
       "<text fill=\"#000000\" font-family=\"Times,serif\" font-size=\"14.00\" text-anchor=\"middle\" x=\"325.5\" y=\"-174.3\">(None, 124, 32)</text>\n",
       "</g>\n",
       "<!-- 140211361803216&#45;&gt;140211361764688 -->\n",
       "<g class=\"edge\" id=\"edge2\">\n",
       "<title>140211361803216-&gt;140211361764688</title>\n",
       "<path d=\"M233,-249.3799C233,-241.1745 233,-231.7679 233,-222.8786\" fill=\"none\" stroke=\"#000000\"/>\n",
       "<polygon fill=\"#000000\" points=\"236.5001,-222.784 233,-212.784 229.5001,-222.784 236.5001,-222.784\" stroke=\"#000000\"/>\n",
       "</g>\n",
       "<!-- 140211411710800 -->\n",
       "<g class=\"node\" id=\"node4\">\n",
       "<title>140211411710800</title>\n",
       "<polygon fill=\"none\" points=\"0,-83.5 0,-129.5 466,-129.5 466,-83.5 0,-83.5\" stroke=\"#000000\"/>\n",
       "<text fill=\"#000000\" font-family=\"Times,serif\" font-size=\"14.00\" text-anchor=\"middle\" x=\"76\" y=\"-102.8\">global_max_pooling1d</text>\n",
       "<polyline fill=\"none\" points=\"152,-83.5 152,-129.5 \" stroke=\"#000000\"/>\n",
       "<text fill=\"#000000\" font-family=\"Times,serif\" font-size=\"14.00\" text-anchor=\"middle\" x=\"225\" y=\"-102.8\">GlobalMaxPooling1D</text>\n",
       "<polyline fill=\"none\" points=\"298,-83.5 298,-129.5 \" stroke=\"#000000\"/>\n",
       "<text fill=\"#000000\" font-family=\"Times,serif\" font-size=\"14.00\" text-anchor=\"middle\" x=\"327\" y=\"-114.3\">input:</text>\n",
       "<polyline fill=\"none\" points=\"298,-106.5 356,-106.5 \" stroke=\"#000000\"/>\n",
       "<text fill=\"#000000\" font-family=\"Times,serif\" font-size=\"14.00\" text-anchor=\"middle\" x=\"327\" y=\"-91.3\">output:</text>\n",
       "<polyline fill=\"none\" points=\"356,-83.5 356,-129.5 \" stroke=\"#000000\"/>\n",
       "<text fill=\"#000000\" font-family=\"Times,serif\" font-size=\"14.00\" text-anchor=\"middle\" x=\"411\" y=\"-114.3\">(None, 124, 32)</text>\n",
       "<polyline fill=\"none\" points=\"356,-106.5 466,-106.5 \" stroke=\"#000000\"/>\n",
       "<text fill=\"#000000\" font-family=\"Times,serif\" font-size=\"14.00\" text-anchor=\"middle\" x=\"411\" y=\"-91.3\">(None, 32)</text>\n",
       "</g>\n",
       "<!-- 140211361764688&#45;&gt;140211411710800 -->\n",
       "<g class=\"edge\" id=\"edge3\">\n",
       "<title>140211361764688-&gt;140211411710800</title>\n",
       "<path d=\"M233,-166.3799C233,-158.1745 233,-148.7679 233,-139.8786\" fill=\"none\" stroke=\"#000000\"/>\n",
       "<polygon fill=\"#000000\" points=\"236.5001,-139.784 233,-129.784 229.5001,-139.784 236.5001,-139.784\" stroke=\"#000000\"/>\n",
       "</g>\n",
       "<!-- 140211499955152 -->\n",
       "<g class=\"node\" id=\"node5\">\n",
       "<title>140211499955152</title>\n",
       "<polygon fill=\"none\" points=\"113.5,-.5 113.5,-46.5 352.5,-46.5 352.5,-.5 113.5,-.5\" stroke=\"#000000\"/>\n",
       "<text fill=\"#000000\" font-family=\"Times,serif\" font-size=\"14.00\" text-anchor=\"middle\" x=\"138\" y=\"-19.8\">dense</text>\n",
       "<polyline fill=\"none\" points=\"162.5,-.5 162.5,-46.5 \" stroke=\"#000000\"/>\n",
       "<text fill=\"#000000\" font-family=\"Times,serif\" font-size=\"14.00\" text-anchor=\"middle\" x=\"188.5\" y=\"-19.8\">Dense</text>\n",
       "<polyline fill=\"none\" points=\"214.5,-.5 214.5,-46.5 \" stroke=\"#000000\"/>\n",
       "<text fill=\"#000000\" font-family=\"Times,serif\" font-size=\"14.00\" text-anchor=\"middle\" x=\"243.5\" y=\"-31.3\">input:</text>\n",
       "<polyline fill=\"none\" points=\"214.5,-23.5 272.5,-23.5 \" stroke=\"#000000\"/>\n",
       "<text fill=\"#000000\" font-family=\"Times,serif\" font-size=\"14.00\" text-anchor=\"middle\" x=\"243.5\" y=\"-8.3\">output:</text>\n",
       "<polyline fill=\"none\" points=\"272.5,-.5 272.5,-46.5 \" stroke=\"#000000\"/>\n",
       "<text fill=\"#000000\" font-family=\"Times,serif\" font-size=\"14.00\" text-anchor=\"middle\" x=\"312.5\" y=\"-31.3\">(None, 32)</text>\n",
       "<polyline fill=\"none\" points=\"272.5,-23.5 352.5,-23.5 \" stroke=\"#000000\"/>\n",
       "<text fill=\"#000000\" font-family=\"Times,serif\" font-size=\"14.00\" text-anchor=\"middle\" x=\"312.5\" y=\"-8.3\">(None, 1)</text>\n",
       "</g>\n",
       "<!-- 140211411710800&#45;&gt;140211499955152 -->\n",
       "<g class=\"edge\" id=\"edge4\">\n",
       "<title>140211411710800-&gt;140211499955152</title>\n",
       "<path d=\"M233,-83.3799C233,-75.1745 233,-65.7679 233,-56.8786\" fill=\"none\" stroke=\"#000000\"/>\n",
       "<polygon fill=\"#000000\" points=\"236.5001,-56.784 233,-46.784 229.5001,-56.784 236.5001,-56.784\" stroke=\"#000000\"/>\n",
       "</g>\n",
       "</g>\n",
       "</svg>"
      ],
      "text/plain": [
       "<IPython.core.display.SVG object>"
      ]
     },
     "execution_count": 13,
     "metadata": {},
     "output_type": "execute_result"
    }
   ],
   "source": [
    "# Showing the architecture of the model\n",
    "\n",
    "SVG(model_to_dot(model, show_shapes=True, dpi=65).create(prog=\"dot\", format=\"svg\"))"
   ]
  },
  {
   "cell_type": "code",
   "execution_count": 14,
   "metadata": {
    "colab": {
     "base_uri": "https://localhost:8080/"
    },
    "id": "87hynLvpbPp8",
    "outputId": "d0bd5c95-f713-4ecf-8e00-8de595d168de"
   },
   "outputs": [
    {
     "name": "stdout",
     "output_type": "stream",
     "text": [
      "Epoch 1/5\n",
      "1000/1000 [==============================] - 74s 73ms/step - loss: 0.5004 - accuracy: 0.7557 - val_loss: 0.4527 - val_accuracy: 0.7881\n",
      "Epoch 2/5\n",
      "1000/1000 [==============================] - 73s 73ms/step - loss: 0.4303 - accuracy: 0.8019 - val_loss: 0.4406 - val_accuracy: 0.7934\n",
      "Epoch 3/5\n",
      "1000/1000 [==============================] - 72s 72ms/step - loss: 0.4031 - accuracy: 0.8174 - val_loss: 0.4414 - val_accuracy: 0.7938\n",
      "Epoch 4/5\n",
      "1000/1000 [==============================] - 72s 72ms/step - loss: 0.3773 - accuracy: 0.8324 - val_loss: 0.4457 - val_accuracy: 0.7933\n",
      "Epoch 5/5\n",
      "1000/1000 [==============================] - 72s 72ms/step - loss: 0.3506 - accuracy: 0.8472 - val_loss: 0.4594 - val_accuracy: 0.7919\n"
     ]
    }
   ],
   "source": [
    "# Fitting the model\n",
    "\n",
    "history = model.fit(\n",
    "    X_train,\n",
    "    y_train,\n",
    "    batch_size=128,\n",
    "    epochs=5,\n",
    "    verbose=1,\n",
    "    validation_data=(X_valid, y_valid)\n",
    ")"
   ]
  },
  {
   "cell_type": "markdown",
   "metadata": {
    "id": "Ibk_-EO2LPja"
   },
   "source": [
    "### **Step 3.2 - Performance Evaluation**"
   ]
  },
  {
   "cell_type": "code",
   "execution_count": 15,
   "metadata": {
    "id": "nCc0V2Y3edp7"
   },
   "outputs": [],
   "source": [
    "# Defining visualization functions\n",
    "\n",
    "def plot_performance_evaluation(history, metric, model_name):\n",
    "    training_values = history.history[metric.lower()]\n",
    "    test_values = history.history[f\"val_{metric.lower()}\"]\n",
    "    epoch_count = range(1, len(training_values) + 1)\n",
    "\n",
    "    plt.subplots(figsize=(7, 4))\n",
    "    plt.plot(epoch_count, training_values, \"r--\")\n",
    "    plt.plot(epoch_count, test_values, \"b-\")\n",
    "    plt.title(f\"{metric} Plot for {model_name}\", fontsize=20)\n",
    "    plt.legend([f\"Training {metric}\", f\"Test {metric}\"], fontsize=15)\n",
    "    plt.xticks(epoch_count)\n",
    "    plt.xlabel(\"Epoch\", fontsize=15)\n",
    "    plt.ylabel(metric, fontsize=15)\n",
    "    plt.grid()\n",
    "    plt.show()\n",
    "\n",
    "def plot_confusion_matrix(y_true, y_pred, model_name):\n",
    "    cf_matrix = confusion_matrix(y_true, y_pred > THRESHOLD)\n",
    "\n",
    "    plt.subplots(figsize=(7, 4))\n",
    "    sns.heatmap(cf_matrix, annot=True, fmt='g')\n",
    "    plt.title(f\"Confusion matrix for {model_name}\", fontsize=20)\n",
    "    plt.xlabel(\"True labels\", fontsize=15)\n",
    "    plt.ylabel(\"Predicted labels\", fontsize=15)\n",
    "    plt.show()"
   ]
  },
  {
   "cell_type": "code",
   "execution_count": 16,
   "metadata": {
    "colab": {
     "base_uri": "https://localhost:8080/",
     "height": 305
    },
    "id": "_ZHP4B21egFg",
    "outputId": "47b89453-a5d9-4a72-f38e-aa5977d5564d"
   },
   "outputs": [
    {
     "data": {
      "image/png": "[encoded data removed]",
      "text/plain": [
       "<Figure size 504x288 with 1 Axes>"
      ]
     },
     "metadata": {
      "needs_background": "light"
     },
     "output_type": "display_data"
    }
   ],
   "source": [
    "# Showing the accuracy plot\n",
    "\n",
    "plot_performance_evaluation(history, \"Accuracy\", \"CNN\")"
   ]
  },
  {
   "cell_type": "code",
   "execution_count": 18,
   "metadata": {
    "colab": {
     "base_uri": "https://localhost:8080/",
     "height": 305
    },
    "id": "xHY2trpCfJyo",
    "outputId": "d24bcf48-3374-4b7a-83fb-c5e05918950b"
   },
   "outputs": [
    {
     "data": {
      "image/png": "[encoded data removed]",
      "text/plain": [
       "<Figure size 504x288 with 2 Axes>"
      ]
     },
     "metadata": {
      "needs_background": "light"
     },
     "output_type": "display_data"
    }
   ],
   "source": [
    "# Visualizing the confusion matrix for the target variable\n",
    "\n",
    "y_pred = model.predict(X_valid)\n",
    "plot_confusion_matrix(y_valid, y_pred, \"CNN\")"
   ]
  },
  {
   "cell_type": "code",
   "execution_count": 19,
   "metadata": {
    "colab": {
     "base_uri": "https://localhost:8080/"
    },
    "id": "mHY7KZBpfl-W",
    "outputId": "56b819a9-f0e4-4e10-c8f9-b78760b4af8b"
   },
   "outputs": [
    {
     "name": "stdout",
     "output_type": "stream",
     "text": [
      "Accuracy for the validation dataset: 79.19 %\n"
     ]
    }
   ],
   "source": [
    "# Finding the accuracy score for the validation dataset\n",
    "\n",
    "accuracy = accuracy_score(y_valid, y_pred > THRESHOLD)\n",
    "print(\"Accuracy for the validation dataset: %.2f %%\" % (accuracy * 100))"
   ]
  },
  {
   "cell_type": "code",
   "execution_count": 20,
   "metadata": {
    "colab": {
     "base_uri": "https://localhost:8080/"
    },
    "id": "4gpGUzYDfpQj",
    "outputId": "ab768ad6-9bc4-4e38-bb2a-2589f4cda660"
   },
   "outputs": [
    {
     "name": "stdout",
     "output_type": "stream",
     "text": [
      "Accuracy for the test dataset: 78.84 %\n"
     ]
    }
   ],
   "source": [
    "# Finding the accuracy score for the test dataset\n",
    "\n",
    "y_pred = model.predict(X_test)\n",
    "accuracy = accuracy_score(y_test, y_pred > THRESHOLD)\n",
    "print(\"Accuracy for the test dataset: %.2f %%\" % (accuracy * 100))"
   ]
  },
  {
   "cell_type": "markdown",
   "metadata": {
    "id": "ouxO366YK64Z"
   },
   "source": [
    "## **Step 4 - RNN Model**"
   ]
  },
  {
   "cell_type": "markdown",
   "metadata": {
    "id": "51g0RqrmLWSE"
   },
   "source": [
    "### **Step 4.1 - Training**"
   ]
  },
  {
   "cell_type": "code",
   "execution_count": 21,
   "metadata": {
    "colab": {
     "base_uri": "https://localhost:8080/"
    },
    "id": "AWYYo6yWb1Wf",
    "outputId": "7e80005d-8d5c-4e83-fab7-ccbc11fae12c"
   },
   "outputs": [
    {
     "name": "stdout",
     "output_type": "stream",
     "text": [
      "Model: \"sequential_1\"\n",
      "_________________________________________________________________\n",
      " Layer (type)                Output Shape              Param #   \n",
      "=================================================================\n",
      " embedding_1 (Embedding)     (None, 128, 32)           4182464   \n",
      "                                                                 \n",
      " lstm (LSTM)                 (None, 128, 32)           8320      \n",
      "                                                                 \n",
      " flatten (Flatten)           (None, 4096)              0         \n",
      "                                                                 \n",
      " dense_1 (Dense)             (None, 1)                 4097      \n",
      "                                                                 \n",
      "=================================================================\n",
      "Total params: 4,194,881\n",
      "Trainable params: 4,194,881\n",
      "Non-trainable params: 0\n",
      "_________________________________________________________________\n"
     ]
    }
   ],
   "source": [
    "# Defining the RNN model\n",
    "\n",
    "model = Sequential()\n",
    "\n",
    "model.add(Embedding(vocab_size, 32, input_length=maxlen))\n",
    "model.add(LSTM(32, activation=\"relu\", return_sequences=True))\n",
    "model.add(Flatten())\n",
    "model.add(Dense(1, activation=\"sigmoid\"))\n",
    "\n",
    "model.compile(\n",
    "    loss=\"binary_crossentropy\", \n",
    "    metrics=[\"accuracy\"],\n",
    "    optimizer=\"adam\"\n",
    ")\n",
    "model.summary()"
   ]
  },
  {
   "cell_type": "code",
   "execution_count": 22,
   "metadata": {
    "colab": {
     "base_uri": "https://localhost:8080/",
     "height": 486
    },
    "id": "E3hBhQFBeShb",
    "outputId": "0081b28a-458c-435c-ca66-c5c11edb0c24"
   },
   "outputs": [
    {
     "data": {
      "image/svg+xml": [
       "<svg height=\"349pt\" viewBox=\"0.00 0.00 376.00 387.00\" width=\"339pt\" xmlns=\"http://www.w3.org/2000/svg\" xmlns:xlink=\"http://www.w3.org/1999/xlink\">\n",
       "<g class=\"graph\" id=\"graph0\" transform=\"scale(.9028 .9028) rotate(0) translate(4 383)\">\n",
       "<title>G</title>\n",
       "<polygon fill=\"#ffffff\" points=\"-4,4 -4,-383 372,-383 372,4 -4,4\" stroke=\"transparent\"/>\n",
       "<!-- 140213582806096 -->\n",
       "<g class=\"node\" id=\"node1\">\n",
       "<title>140213582806096</title>\n",
       "<polygon fill=\"none\" points=\"0,-332.5 0,-378.5 368,-378.5 368,-332.5 0,-332.5\" stroke=\"#000000\"/>\n",
       "<text fill=\"#000000\" font-family=\"Times,serif\" font-size=\"14.00\" text-anchor=\"middle\" x=\"67\" y=\"-351.8\">embedding_1_input</text>\n",
       "<polyline fill=\"none\" points=\"134,-332.5 134,-378.5 \" stroke=\"#000000\"/>\n",
       "<text fill=\"#000000\" font-family=\"Times,serif\" font-size=\"14.00\" text-anchor=\"middle\" x=\"174\" y=\"-351.8\">InputLayer</text>\n",
       "<polyline fill=\"none\" points=\"214,-332.5 214,-378.5 \" stroke=\"#000000\"/>\n",
       "<text fill=\"#000000\" font-family=\"Times,serif\" font-size=\"14.00\" text-anchor=\"middle\" x=\"243\" y=\"-363.3\">input:</text>\n",
       "<polyline fill=\"none\" points=\"214,-355.5 272,-355.5 \" stroke=\"#000000\"/>\n",
       "<text fill=\"#000000\" font-family=\"Times,serif\" font-size=\"14.00\" text-anchor=\"middle\" x=\"243\" y=\"-340.3\">output:</text>\n",
       "<polyline fill=\"none\" points=\"272,-332.5 272,-378.5 \" stroke=\"#000000\"/>\n",
       "<text fill=\"#000000\" font-family=\"Times,serif\" font-size=\"14.00\" text-anchor=\"middle\" x=\"320\" y=\"-363.3\">[(None, 128)]</text>\n",
       "<polyline fill=\"none\" points=\"272,-355.5 368,-355.5 \" stroke=\"#000000\"/>\n",
       "<text fill=\"#000000\" font-family=\"Times,serif\" font-size=\"14.00\" text-anchor=\"middle\" x=\"320\" y=\"-340.3\">[(None, 128)]</text>\n",
       "</g>\n",
       "<!-- 140213583588304 -->\n",
       "<g class=\"node\" id=\"node2\">\n",
       "<title>140213583588304</title>\n",
       "<polygon fill=\"none\" points=\"10,-249.5 10,-295.5 358,-295.5 358,-249.5 10,-249.5\" stroke=\"#000000\"/>\n",
       "<text fill=\"#000000\" font-family=\"Times,serif\" font-size=\"14.00\" text-anchor=\"middle\" x=\"58\" y=\"-268.8\">embedding_1</text>\n",
       "<polyline fill=\"none\" points=\"106,-249.5 106,-295.5 \" stroke=\"#000000\"/>\n",
       "<text fill=\"#000000\" font-family=\"Times,serif\" font-size=\"14.00\" text-anchor=\"middle\" x=\"148\" y=\"-268.8\">Embedding</text>\n",
       "<polyline fill=\"none\" points=\"190,-249.5 190,-295.5 \" stroke=\"#000000\"/>\n",
       "<text fill=\"#000000\" font-family=\"Times,serif\" font-size=\"14.00\" text-anchor=\"middle\" x=\"219\" y=\"-280.3\">input:</text>\n",
       "<polyline fill=\"none\" points=\"190,-272.5 248,-272.5 \" stroke=\"#000000\"/>\n",
       "<text fill=\"#000000\" font-family=\"Times,serif\" font-size=\"14.00\" text-anchor=\"middle\" x=\"219\" y=\"-257.3\">output:</text>\n",
       "<polyline fill=\"none\" points=\"248,-249.5 248,-295.5 \" stroke=\"#000000\"/>\n",
       "<text fill=\"#000000\" font-family=\"Times,serif\" font-size=\"14.00\" text-anchor=\"middle\" x=\"303\" y=\"-280.3\">(None, 128)</text>\n",
       "<polyline fill=\"none\" points=\"248,-272.5 358,-272.5 \" stroke=\"#000000\"/>\n",
       "<text fill=\"#000000\" font-family=\"Times,serif\" font-size=\"14.00\" text-anchor=\"middle\" x=\"303\" y=\"-257.3\">(None, 128, 32)</text>\n",
       "</g>\n",
       "<!-- 140213582806096&#45;&gt;140213583588304 -->\n",
       "<g class=\"edge\" id=\"edge1\">\n",
       "<title>140213582806096-&gt;140213583588304</title>\n",
       "<path d=\"M184,-332.3799C184,-324.1745 184,-314.7679 184,-305.8786\" fill=\"none\" stroke=\"#000000\"/>\n",
       "<polygon fill=\"#000000\" points=\"187.5001,-305.784 184,-295.784 180.5001,-305.784 187.5001,-305.784\" stroke=\"#000000\"/>\n",
       "</g>\n",
       "<!-- 140213584770704 -->\n",
       "<g class=\"node\" id=\"node3\">\n",
       "<title>140213584770704</title>\n",
       "<polygon fill=\"none\" points=\"51.5,-166.5 51.5,-212.5 316.5,-212.5 316.5,-166.5 51.5,-166.5\" stroke=\"#000000\"/>\n",
       "<text fill=\"#000000\" font-family=\"Times,serif\" font-size=\"14.00\" text-anchor=\"middle\" x=\"72\" y=\"-185.8\">lstm</text>\n",
       "<polyline fill=\"none\" points=\"92.5,-166.5 92.5,-212.5 \" stroke=\"#000000\"/>\n",
       "<text fill=\"#000000\" font-family=\"Times,serif\" font-size=\"14.00\" text-anchor=\"middle\" x=\"120.5\" y=\"-185.8\">LSTM</text>\n",
       "<polyline fill=\"none\" points=\"148.5,-166.5 148.5,-212.5 \" stroke=\"#000000\"/>\n",
       "<text fill=\"#000000\" font-family=\"Times,serif\" font-size=\"14.00\" text-anchor=\"middle\" x=\"177.5\" y=\"-197.3\">input:</text>\n",
       "<polyline fill=\"none\" points=\"148.5,-189.5 206.5,-189.5 \" stroke=\"#000000\"/>\n",
       "<text fill=\"#000000\" font-family=\"Times,serif\" font-size=\"14.00\" text-anchor=\"middle\" x=\"177.5\" y=\"-174.3\">output:</text>\n",
       "<polyline fill=\"none\" points=\"206.5,-166.5 206.5,-212.5 \" stroke=\"#000000\"/>\n",
       "<text fill=\"#000000\" font-family=\"Times,serif\" font-size=\"14.00\" text-anchor=\"middle\" x=\"261.5\" y=\"-197.3\">(None, 128, 32)</text>\n",
       "<polyline fill=\"none\" points=\"206.5,-189.5 316.5,-189.5 \" stroke=\"#000000\"/>\n",
       "<text fill=\"#000000\" font-family=\"Times,serif\" font-size=\"14.00\" text-anchor=\"middle\" x=\"261.5\" y=\"-174.3\">(None, 128, 32)</text>\n",
       "</g>\n",
       "<!-- 140213583588304&#45;&gt;140213584770704 -->\n",
       "<g class=\"edge\" id=\"edge2\">\n",
       "<title>140213583588304-&gt;140213584770704</title>\n",
       "<path d=\"M184,-249.3799C184,-241.1745 184,-231.7679 184,-222.8786\" fill=\"none\" stroke=\"#000000\"/>\n",
       "<polygon fill=\"#000000\" points=\"187.5001,-222.784 184,-212.784 180.5001,-222.784 187.5001,-222.784\" stroke=\"#000000\"/>\n",
       "</g>\n",
       "<!-- 140213583575632 -->\n",
       "<g class=\"node\" id=\"node4\">\n",
       "<title>140213583575632</title>\n",
       "<polygon fill=\"none\" points=\"46,-83.5 46,-129.5 322,-129.5 322,-83.5 46,-83.5\" stroke=\"#000000\"/>\n",
       "<text fill=\"#000000\" font-family=\"Times,serif\" font-size=\"14.00\" text-anchor=\"middle\" x=\"72\" y=\"-102.8\">flatten</text>\n",
       "<polyline fill=\"none\" points=\"98,-83.5 98,-129.5 \" stroke=\"#000000\"/>\n",
       "<text fill=\"#000000\" font-family=\"Times,serif\" font-size=\"14.00\" text-anchor=\"middle\" x=\"126\" y=\"-102.8\">Flatten</text>\n",
       "<polyline fill=\"none\" points=\"154,-83.5 154,-129.5 \" stroke=\"#000000\"/>\n",
       "<text fill=\"#000000\" font-family=\"Times,serif\" font-size=\"14.00\" text-anchor=\"middle\" x=\"183\" y=\"-114.3\">input:</text>\n",
       "<polyline fill=\"none\" points=\"154,-106.5 212,-106.5 \" stroke=\"#000000\"/>\n",
       "<text fill=\"#000000\" font-family=\"Times,serif\" font-size=\"14.00\" text-anchor=\"middle\" x=\"183\" y=\"-91.3\">output:</text>\n",
       "<polyline fill=\"none\" points=\"212,-83.5 212,-129.5 \" stroke=\"#000000\"/>\n",
       "<text fill=\"#000000\" font-family=\"Times,serif\" font-size=\"14.00\" text-anchor=\"middle\" x=\"267\" y=\"-114.3\">(None, 128, 32)</text>\n",
       "<polyline fill=\"none\" points=\"212,-106.5 322,-106.5 \" stroke=\"#000000\"/>\n",
       "<text fill=\"#000000\" font-family=\"Times,serif\" font-size=\"14.00\" text-anchor=\"middle\" x=\"267\" y=\"-91.3\">(None, 4096)</text>\n",
       "</g>\n",
       "<!-- 140213584770704&#45;&gt;140213583575632 -->\n",
       "<g class=\"edge\" id=\"edge3\">\n",
       "<title>140213584770704-&gt;140213583575632</title>\n",
       "<path d=\"M184,-166.3799C184,-158.1745 184,-148.7679 184,-139.8786\" fill=\"none\" stroke=\"#000000\"/>\n",
       "<polygon fill=\"#000000\" points=\"187.5001,-139.784 184,-129.784 180.5001,-139.784 187.5001,-139.784\" stroke=\"#000000\"/>\n",
       "</g>\n",
       "<!-- 140211361733584 -->\n",
       "<g class=\"node\" id=\"node5\">\n",
       "<title>140211361733584</title>\n",
       "<polygon fill=\"none\" points=\"49.5,-.5 49.5,-46.5 318.5,-46.5 318.5,-.5 49.5,-.5\" stroke=\"#000000\"/>\n",
       "<text fill=\"#000000\" font-family=\"Times,serif\" font-size=\"14.00\" text-anchor=\"middle\" x=\"81.5\" y=\"-19.8\">dense_1</text>\n",
       "<polyline fill=\"none\" points=\"113.5,-.5 113.5,-46.5 \" stroke=\"#000000\"/>\n",
       "<text fill=\"#000000\" font-family=\"Times,serif\" font-size=\"14.00\" text-anchor=\"middle\" x=\"139.5\" y=\"-19.8\">Dense</text>\n",
       "<polyline fill=\"none\" points=\"165.5,-.5 165.5,-46.5 \" stroke=\"#000000\"/>\n",
       "<text fill=\"#000000\" font-family=\"Times,serif\" font-size=\"14.00\" text-anchor=\"middle\" x=\"194.5\" y=\"-31.3\">input:</text>\n",
       "<polyline fill=\"none\" points=\"165.5,-23.5 223.5,-23.5 \" stroke=\"#000000\"/>\n",
       "<text fill=\"#000000\" font-family=\"Times,serif\" font-size=\"14.00\" text-anchor=\"middle\" x=\"194.5\" y=\"-8.3\">output:</text>\n",
       "<polyline fill=\"none\" points=\"223.5,-.5 223.5,-46.5 \" stroke=\"#000000\"/>\n",
       "<text fill=\"#000000\" font-family=\"Times,serif\" font-size=\"14.00\" text-anchor=\"middle\" x=\"271\" y=\"-31.3\">(None, 4096)</text>\n",
       "<polyline fill=\"none\" points=\"223.5,-23.5 318.5,-23.5 \" stroke=\"#000000\"/>\n",
       "<text fill=\"#000000\" font-family=\"Times,serif\" font-size=\"14.00\" text-anchor=\"middle\" x=\"271\" y=\"-8.3\">(None, 1)</text>\n",
       "</g>\n",
       "<!-- 140213583575632&#45;&gt;140211361733584 -->\n",
       "<g class=\"edge\" id=\"edge4\">\n",
       "<title>140213583575632-&gt;140211361733584</title>\n",
       "<path d=\"M184,-83.3799C184,-75.1745 184,-65.7679 184,-56.8786\" fill=\"none\" stroke=\"#000000\"/>\n",
       "<polygon fill=\"#000000\" points=\"187.5001,-56.784 184,-46.784 180.5001,-56.784 187.5001,-56.784\" stroke=\"#000000\"/>\n",
       "</g>\n",
       "</g>\n",
       "</svg>"
      ],
      "text/plain": [
       "<IPython.core.display.SVG object>"
      ]
     },
     "execution_count": 22,
     "metadata": {},
     "output_type": "execute_result"
    }
   ],
   "source": [
    "# Showing the architecture of the model\n",
    "\n",
    "SVG(model_to_dot(model, show_shapes=True, dpi=65).create(prog=\"dot\", format=\"svg\"))"
   ]
  },
  {
   "cell_type": "code",
   "execution_count": 23,
   "metadata": {
    "colab": {
     "base_uri": "https://localhost:8080/"
    },
    "id": "m9DglW1QcEWU",
    "outputId": "79b13378-d6dc-42ac-fdef-c7c011b5fc03"
   },
   "outputs": [
    {
     "name": "stdout",
     "output_type": "stream",
     "text": [
      "Epoch 1/5\n",
      "1000/1000 [==============================] - 119s 118ms/step - loss: 2804112.5000 - accuracy: 0.7123 - val_loss: 0.5141 - val_accuracy: 0.7582\n",
      "Epoch 2/5\n",
      "1000/1000 [==============================] - 119s 119ms/step - loss: 0.5002 - accuracy: 0.7629 - val_loss: 0.5051 - val_accuracy: 0.7599\n",
      "Epoch 3/5\n",
      "1000/1000 [==============================] - 132s 132ms/step - loss: 0.4877 - accuracy: 0.7702 - val_loss: 0.5007 - val_accuracy: 0.7629\n",
      "Epoch 4/5\n",
      "1000/1000 [==============================] - 121s 121ms/step - loss: 0.4796 - accuracy: 0.7741 - val_loss: 0.4987 - val_accuracy: 0.7631\n",
      "Epoch 5/5\n",
      "1000/1000 [==============================] - 119s 119ms/step - loss: 0.4726 - accuracy: 0.7784 - val_loss: 0.4979 - val_accuracy: 0.7622\n"
     ]
    }
   ],
   "source": [
    "# Fitting the model\n",
    "\n",
    "history = model.fit(\n",
    "    X_train,\n",
    "    y_train,\n",
    "    batch_size=128,\n",
    "    epochs=5,\n",
    "    verbose=1,\n",
    "    validation_data=(X_valid, y_valid)\n",
    ")"
   ]
  },
  {
   "cell_type": "markdown",
   "metadata": {
    "id": "UEnOP8RWLXXw"
   },
   "source": [
    "### **Step 4.2 - Performance Evaluation**"
   ]
  },
  {
   "cell_type": "code",
   "execution_count": 24,
   "metadata": {
    "colab": {
     "base_uri": "https://localhost:8080/",
     "height": 305
    },
    "id": "W07C7pB0cFfc",
    "outputId": "b7e81df9-e14a-4c41-ae12-46f13ec44ee7"
   },
   "outputs": [
    {
     "data": {
      "image/png": "[encoded data removed]",
      "text/plain": [
       "<Figure size 504x288 with 1 Axes>"
      ]
     },
     "metadata": {
      "needs_background": "light"
     },
     "output_type": "display_data"
    }
   ],
   "source": [
    "# Showing the accuracy plot\n",
    "\n",
    "plot_performance_evaluation(history, \"Accuracy\", \"RNN\")"
   ]
  },
  {
   "cell_type": "code",
   "execution_count": 26,
   "metadata": {
    "colab": {
     "base_uri": "https://localhost:8080/",
     "height": 305
    },
    "id": "DLGlIVhvfsXz",
    "outputId": "5475b6af-69bc-4554-9cbc-51dbf28427ce"
   },
   "outputs": [
    {
     "data": {
      "image/png": "[encoded data removed]",
      "text/plain": [
       "<Figure size 504x288 with 2 Axes>"
      ]
     },
     "metadata": {
      "needs_background": "light"
     },
     "output_type": "display_data"
    }
   ],
   "source": [
    "# Visualizing the confusion matrix for the target variable\n",
    "\n",
    "y_pred = model.predict(X_valid)\n",
    "plot_confusion_matrix(y_valid, y_pred, \"RNN\")"
   ]
  },
  {
   "cell_type": "code",
   "execution_count": 27,
   "metadata": {
    "colab": {
     "base_uri": "https://localhost:8080/"
    },
    "id": "V48yjGYbf4xW",
    "outputId": "ec55bfe3-5447-49df-9329-ec9fead195bf"
   },
   "outputs": [
    {
     "name": "stdout",
     "output_type": "stream",
     "text": [
      "Accuracy for the validation dataset: 76.22 %\n"
     ]
    }
   ],
   "source": [
    "# Finding the accuracy score for the validation dataset\n",
    "\n",
    "accuracy = accuracy_score(y_valid, y_pred > THRESHOLD)\n",
    "print(\"Accuracy for the validation dataset: %.2f %%\" % (accuracy * 100))"
   ]
  },
  {
   "cell_type": "code",
   "execution_count": 28,
   "metadata": {
    "colab": {
     "base_uri": "https://localhost:8080/"
    },
    "id": "_qunt93hf6RH",
    "outputId": "db61f339-499f-4e90-8109-6d6ec3926abc"
   },
   "outputs": [
    {
     "name": "stdout",
     "output_type": "stream",
     "text": [
      "Accuracy for the test dataset: 76.29 %\n"
     ]
    }
   ],
   "source": [
    "# Finding the accuracy score for the test dataset\n",
    "\n",
    "y_pred = model.predict(X_test)\n",
    "accuracy = accuracy_score(y_test, y_pred > THRESHOLD)\n",
    "print(\"Accuracy for the test dataset: %.2f %%\" % (accuracy * 100))"
   ]
  }
 ],
 "metadata": {
  "colab": {
   "collapsed_sections": [],
   "name": "Machine_Learning_Mini_Project_2.ipynb",
   "provenance": []
  },
  "kernelspec": {
   "display_name": "Python 3",
   "language": "python",
   "name": "python3"
  },
  "language_info": {
   "codemirror_mode": {
    "name": "ipython",
    "version": 3
   },
   "file_extension": ".py",
   "mimetype": "text/x-python",
   "name": "python",
   "nbconvert_exporter": "python",
   "pygments_lexer": "ipython3",
   "version": "3.6.9"
  }
 },
 "nbformat": 4,
 "nbformat_minor": 1
}
